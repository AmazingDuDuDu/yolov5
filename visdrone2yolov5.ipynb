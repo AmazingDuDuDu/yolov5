{
 "cells": [
  {
   "cell_type": "markdown",
   "metadata": {},
   "source": [
    "Visdrone注释为.txt文件：\n",
    "\n",
    "<bbox_left>,<bbox_top>,<bbox_width>,<bbox_height>,<score>,<object_category>,<truncation>,<occlusion>\n",
    "\n",
    "Yolov5要求的格式为.txt文件：\n",
    "\n",
    "<class> <x_center> <y_center> <width> <height>\n",
    "\n",
    "其中Box coordinates must be in **normalized xywh** format (from 0 to 1)，if your boxes are in pixels, divide `x_center` and `width` by image width, and `y_center` acls_idnd `height` by image height."
   ]
  },
  {
   "cell_type": "code",
   "execution_count": 1,
   "metadata": {},
   "outputs": [],
   "source": [
    "import os\n",
    "from tqdm import tqdm"
   ]
  },
  {
   "cell_type": "code",
   "execution_count": 10,
   "metadata": {},
   "outputs": [
    {
     "name": "stderr",
     "output_type": "stream",
     "text": [
      "anno_files: 100%|██████████| 6471/6471 [00:01<00:00, 4288.49it/s]\n",
      "anno_files: 100%|██████████| 548/548 [00:00<00:00, 3621.49it/s]\n"
     ]
    }
   ],
   "source": [
    "visdrone_path = '/home/linux/datasets/visdrone'\n",
    "visdrone_train_path = os.path.join(visdrone_path, 'VisDrone2019-DET-train')\n",
    "visdrone_val_path = os.path.join(visdrone_path, 'VisDrone2019-DET-val')\n",
    "\n",
    "# visdrone数据集中图片尺寸（pixels）\n",
    "WIDTH = 960\n",
    "HEIGHT = 540\n",
    "\n",
    "def gen_anno_txt(visdrone_path):\n",
    "    visdrone_anno_path = os.path.join(visdrone_path, 'annotations')\n",
    "    visdrone_img_path = os.path.join(visdrone_path, 'images')\n",
    "    yolov5_anno_path = os.path.join(visdrone_path, \"yoloV5Annos\")\n",
    "    if not os.path.exists(yolov5_anno_path):\n",
    "        os.mkdir(yolov5_anno_path)\n",
    "    for anno_file in tqdm(os.listdir(visdrone_anno_path), desc=\"anno_files\"):\n",
    "        anno_file_path = os.path.join(visdrone_anno_path, anno_file) # 绝对路径\n",
    "        # 创建yolov5格式的标签文件\n",
    "        list_file_path = os.path.join(yolov5_anno_path, anno_file)\n",
    "        yolov5_anno_file = open(os.path.join(yolov5_anno_path, anno_file), 'w', encoding='utf-8')\n",
    "        with open(anno_file_path, 'r') as f:\n",
    "            lines = f.readlines()\n",
    "        for line in lines:\n",
    "            split_line = line.strip().split(',')\n",
    "            xmin, ymax, width, height = [int(i) for i in split_line[: 4]]\n",
    "            cls_id = split_line[5]\n",
    "            if cls_id in ['0', '11']:\n",
    "                continue\n",
    "            yolov5_anno_file.write(\" \".join([str(int(cls_id)-1), str((xmin+width/2)/WIDTH), str((ymax-height/2)/HEIGHT), str(width/2/WIDTH), str(height/2/HEIGHT)]))\n",
    "            yolov5_anno_file.write('\\n')\n",
    "        yolov5_anno_file.close()\n",
    "\n",
    "if __name__==\"__main__\":\n",
    "    gen_anno_txt(visdrone_train_path)\n",
    "    gen_anno_txt(visdrone_val_path)"
   ]
  },
  {
   "cell_type": "markdown",
   "metadata": {},
   "source": [
    "Visdrone对应的类别为：\n",
    "\n",
    "pedestrian (1), people (2), bicycle (3), car (4), van (5),truck (6), tricycle (7), awning-tricycle (8), bus (9), motor (10), others (11)\n",
    "\n",
    "Yolov5训练所需的类别为：\n",
    "\n",
    "  0: pedestrian\n",
    "  1: people\n",
    "  2: bicycle\n",
    "  3: car\n",
    "  4: van\n",
    "  5: truck\n",
    "  6: tricycle\n",
    "  7: awning-tricycle\n",
    "  8: bus\n",
    "  9: motor"
   ]
  },
  {
   "cell_type": "markdown",
   "metadata": {},
   "source": []
  }
 ],
 "metadata": {
  "kernelspec": {
   "display_name": "Python 3.8.10 64-bit",
   "language": "python",
   "name": "python3"
  },
  "language_info": {
   "codemirror_mode": {
    "name": "ipython",
    "version": 3
   },
   "file_extension": ".py",
   "mimetype": "text/x-python",
   "name": "python",
   "nbconvert_exporter": "python",
   "pygments_lexer": "ipython3",
   "version": "3.8.10"
  },
  "orig_nbformat": 4,
  "vscode": {
   "interpreter": {
    "hash": "916dbcbb3f70747c44a77c7bcd40155683ae19c65e1c03b4aa3499c5328201f1"
   }
  }
 },
 "nbformat": 4,
 "nbformat_minor": 2
}
